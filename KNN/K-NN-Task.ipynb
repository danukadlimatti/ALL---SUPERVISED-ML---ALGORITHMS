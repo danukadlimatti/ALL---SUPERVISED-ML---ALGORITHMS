{
 "cells": [
  {
   "cell_type": "markdown",
   "id": "50920870",
   "metadata": {},
   "source": [
    "# Load Social Network ads dataset"
   ]
  },
  {
   "cell_type": "code",
   "execution_count": null,
   "id": "335c56ca",
   "metadata": {},
   "outputs": [],
   "source": []
  },
  {
   "cell_type": "markdown",
   "id": "f57c1783",
   "metadata": {},
   "source": [
    "# Select Features and Target"
   ]
  },
  {
   "cell_type": "markdown",
   "id": "b5f95417",
   "metadata": {},
   "source": [
    "# Train Test Spliting"
   ]
  },
  {
   "cell_type": "markdown",
   "id": "85dad4a6",
   "metadata": {},
   "source": [
    "# KNN Model Building"
   ]
  },
  {
   "cell_type": "code",
   "execution_count": null,
   "id": "cc08a478",
   "metadata": {},
   "outputs": [],
   "source": [
    "from sklearn.neighbors import KNeighborsClassifier"
   ]
  },
  {
   "cell_type": "markdown",
   "id": "b91362d0",
   "metadata": {},
   "source": [
    "# Confusion matrix"
   ]
  },
  {
   "cell_type": "code",
   "execution_count": null,
   "id": "6ca7d396",
   "metadata": {},
   "outputs": [],
   "source": []
  },
  {
   "cell_type": "markdown",
   "id": "a3fffd53",
   "metadata": {},
   "source": [
    "# Cross validation"
   ]
  },
  {
   "cell_type": "markdown",
   "id": "dd358dbd",
   "metadata": {},
   "source": [
    "# Model Visualization"
   ]
  },
  {
   "cell_type": "markdown",
   "id": "42bbe030",
   "metadata": {},
   "source": [
    "# user testing"
   ]
  },
  {
   "cell_type": "code",
   "execution_count": null,
   "id": "9af5f25c",
   "metadata": {},
   "outputs": [],
   "source": []
  }
 ],
 "metadata": {
  "kernelspec": {
   "display_name": "Python 3 (ipykernel)",
   "language": "python",
   "name": "python3"
  },
  "language_info": {
   "codemirror_mode": {
    "name": "ipython",
    "version": 3
   },
   "file_extension": ".py",
   "mimetype": "text/x-python",
   "name": "python",
   "nbconvert_exporter": "python",
   "pygments_lexer": "ipython3",
   "version": "3.9.7"
  }
 },
 "nbformat": 4,
 "nbformat_minor": 5
}
